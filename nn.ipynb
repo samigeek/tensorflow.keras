{
  "nbformat": 4,
  "nbformat_minor": 0,
  "metadata": {
    "colab": {
      "provenance": [],
      "gpuType": "T4"
    },
    "kernelspec": {
      "name": "python3",
      "display_name": "Python 3"
    },
    "language_info": {
      "name": "python"
    }
  },
  "cells": [
    {
      "cell_type": "code",
      "execution_count": null,
      "metadata": {
        "colab": {
          "base_uri": "https://localhost:8080/"
        },
        "id": "gPFHF342wGCZ",
        "outputId": "470e3d86-35d0-472e-d7d2-95c2d4314a20"
      },
      "outputs": [
        {
          "output_type": "stream",
          "name": "stdout",
          "text": [
            "Mounted at /content/gdrive/\n"
          ]
        }
      ],
      "source": [
        "\n",
        "\n",
        "from google.colab import drive\n",
        "drive.mount('/content/gdrive/', force_remount=True)"
      ]
    },
    {
      "cell_type": "code",
      "source": [
        "import tensorflow as tf\n",
        "import seaborn as sns\n",
        "import numpy as np\n",
        "import pandas as pd\n",
        "from tensorflow import keras\n",
        "from tensorflow.keras import layers\n",
        "import matplotlib.pyplot as plt\n",
        "import numpy as np\n",
        "import pandas as pd\n",
        "from sklearn.svm import SVC\n",
        "from sklearn.model_selection import train_test_split\n",
        "from sklearn.metrics import  confusion_matrix,precision_score, recall_score, accuracy_score,f1_score\n",
        "from mlxtend.plotting import plot_decision_regions\n",
        "import seaborn as sns\n",
        "from sklearn.tree import DecisionTreeClassifier\n",
        "from sklearn.model_selection import GridSearchCV\n",
        "from sklearn.metrics import precision_score, recall_score, accuracy_score,f1_score,mean_squared_error,roc_curve,auc\n",
        "from sklearn.linear_model import LogisticRegression\n",
        "from sklearn.model_selection import GridSearchCV\n",
        "from sklearn.neighbors import KNeighborsClassifier\n",
        "from sklearn.svm import SVC\n",
        "from sklearn.ensemble import GradientBoostingClassifier\n",
        "from sklearn.ensemble import RandomForestClassifier\n",
        "from sklearn.preprocessing import StandardScaler"
      ],
      "metadata": {
        "id": "IY_u7wrywiVP"
      },
      "execution_count": null,
      "outputs": []
    },
    {
      "cell_type": "code",
      "source": [
        "ex=pd.read_csv(\"/content/gdrive/MyDrive/feature_extraction_data_analysis.csv\")\n",
        "ex=ex.iloc[:,1:]\n",
        "exf=ex.iloc[:,:-1]\n",
        "#exf=exf.iloc[:,:10]\n",
        "exl=ex.iloc[:,-1:]\n",
        "exf=exf.reset_index(drop=True)\n",
        "exl['labels']=exl['labels'].map({'fake':0,'real':1})\n",
        "#exf['blurriness']=exf['blurriness'].map({'Not Blurry':0,'Blurry':1})\n",
        "#scaler=StandardScaler()\n",
        "#exf=scaler.fit_transform(exf)\n",
        "#split train & test\n",
        "x_train, x_test, y_train, y_test= train_test_split(exf,exl,test_size=0.30,shuffle=True)\n",
        "#x_train=x_train.reset_index(drop=True)\n",
        "#y_train=y_train.reset_index(drop=True)"
      ],
      "metadata": {
        "id": "9ezIBMLuwzL9",
        "colab": {
          "base_uri": "https://localhost:8080/"
        },
        "outputId": "d1514d00-b872-46ec-a9c7-ce6418ed1722"
      },
      "execution_count": null,
      "outputs": [
        {
          "output_type": "stream",
          "name": "stderr",
          "text": [
            "<ipython-input-3-f1d3af4ed195>:7: SettingWithCopyWarning: \n",
            "A value is trying to be set on a copy of a slice from a DataFrame.\n",
            "Try using .loc[row_indexer,col_indexer] = value instead\n",
            "\n",
            "See the caveats in the documentation: https://pandas.pydata.org/pandas-docs/stable/user_guide/indexing.html#returning-a-view-versus-a-copy\n",
            "  exl['labels']=exl['labels'].map({'fake':0,'real':1})\n"
          ]
        }
      ]
    },
    {
      "cell_type": "code",
      "source": [
        "from sklearn.metrics import precision_score, recall_score, accuracy_score,f1_score\n",
        "def eva(pred):\n",
        "  ltrue=y_test\n",
        "  print(\"%0.2f accuracy\" % accuracy_score(ltrue,pred))\n",
        "  print(\"%0.2f recall\" % recall_score(ltrue,pred))\n",
        "  print(\"%0.2f precision\" % precision_score(ltrue,pred))\n",
        "  print(\"%0.2f f1\" % f1_score(ltrue,pred))\n",
        "\n"
      ],
      "metadata": {
        "id": "muCR43ulxGC7"
      },
      "execution_count": null,
      "outputs": []
    },
    {
      "cell_type": "code",
      "source": [
        "from tensorflow.keras.models import Sequential\n",
        "from tensorflow.keras.layers import Dense\n",
        "\n",
        "model = Sequential()\n",
        "model.add(Dense(5000, activation='relu', input_shape=(x_train.shape[1],)))\n",
        "model.add(Dense(5000, activation='relu'))\n",
        "model.add(Dense(5000, activation='relu'))\n",
        "model.add(Dense(500, activation='relu'))\n",
        "model.add(Dense(500, activation='relu'))\n",
        "model.add(Dense(500, activation='relu'))\n",
        "model.add(Dense(500, activation='relu'))\n",
        "model.add(Dense(500, activation='relu'))\n",
        "model.add(Dense(500, activation='relu'))\n",
        "model.add(Dense(1, activation='sigmoid'))\n",
        "#optimizer = keras.optimizers.SGD(learning_rate=0.001)\n",
        "model.compile(optimizer='adam', loss='binary_crossentropy', metrics=['accuracy'])\n",
        "history= model.fit(x_train, y_train['labels'], batch_size=32, epochs=15)\n",
        "pred = model.predict(x_test, batch_size=32)\n",
        "eva(np.round(pred))"
      ],
      "metadata": {
        "colab": {
          "base_uri": "https://localhost:8080/"
        },
        "id": "C4eTvTE2Afs3",
        "outputId": "9506f61c-cfe2-432b-a354-1f6f5322e496"
      },
      "execution_count": null,
      "outputs": [
        {
          "output_type": "stream",
          "name": "stdout",
          "text": [
            "Epoch 1/15\n",
            "75/75 [==============================] - 5s 14ms/step - loss: 0.6677 - accuracy: 0.5905\n",
            "Epoch 2/15\n",
            "75/75 [==============================] - 1s 14ms/step - loss: 0.6131 - accuracy: 0.6700\n",
            "Epoch 3/15\n",
            "75/75 [==============================] - 1s 14ms/step - loss: 0.5964 - accuracy: 0.6809\n",
            "Epoch 4/15\n",
            "75/75 [==============================] - 1s 14ms/step - loss: 0.5651 - accuracy: 0.7139\n",
            "Epoch 5/15\n",
            "75/75 [==============================] - 1s 14ms/step - loss: 0.5346 - accuracy: 0.7369\n",
            "Epoch 6/15\n",
            "75/75 [==============================] - 1s 14ms/step - loss: 0.5183 - accuracy: 0.7528\n",
            "Epoch 7/15\n",
            "75/75 [==============================] - 1s 14ms/step - loss: 0.4826 - accuracy: 0.7637\n",
            "Epoch 8/15\n",
            "75/75 [==============================] - 1s 15ms/step - loss: 0.5110 - accuracy: 0.7637\n",
            "Epoch 9/15\n",
            "75/75 [==============================] - 1s 16ms/step - loss: 0.4928 - accuracy: 0.7742\n",
            "Epoch 10/15\n",
            "75/75 [==============================] - 1s 16ms/step - loss: 0.4542 - accuracy: 0.7867\n",
            "Epoch 11/15\n",
            "75/75 [==============================] - 1s 14ms/step - loss: 0.4315 - accuracy: 0.8001\n",
            "Epoch 12/15\n",
            "75/75 [==============================] - 1s 14ms/step - loss: 0.4264 - accuracy: 0.8055\n",
            "Epoch 13/15\n",
            "75/75 [==============================] - 1s 14ms/step - loss: 0.4612 - accuracy: 0.7997\n",
            "Epoch 14/15\n",
            "75/75 [==============================] - 1s 14ms/step - loss: 0.4209 - accuracy: 0.8072\n",
            "Epoch 15/15\n",
            "75/75 [==============================] - 1s 14ms/step - loss: 0.3868 - accuracy: 0.8239\n",
            "33/33 [==============================] - 0s 2ms/step\n",
            "0.74 accuracy\n",
            "0.79 recall\n",
            "0.71 precision\n",
            "0.75 f1\n"
          ]
        }
      ]
    },
    {
      "cell_type": "code",
      "source": [
        "np.max(pred)"
      ],
      "metadata": {
        "colab": {
          "base_uri": "https://localhost:8080/"
        },
        "id": "sKPV8wIEOyHo",
        "outputId": "74d342d0-c8bf-417a-c199-2ba4ff1d249d"
      },
      "execution_count": null,
      "outputs": [
        {
          "output_type": "execute_result",
          "data": {
            "text/plain": [
              "0.30710542"
            ]
          },
          "metadata": {},
          "execution_count": 81
        }
      ]
    }
  ]
}